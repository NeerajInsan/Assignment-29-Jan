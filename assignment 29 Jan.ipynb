{
 "cells": [
  {
   "cell_type": "code",
   "execution_count": null,
   "id": "8e209010-3e83-4f3b-a39f-c0b536b3903a",
   "metadata": {},
   "outputs": [],
   "source": [
    "Q:1 Who Developed Python Programming Language?\n",
    "Ans: Guido van Rossum developed Python Programming Language."
   ]
  },
  {
   "cell_type": "code",
   "execution_count": null,
   "id": "61d89f89-f43e-408f-a636-e76886ebb78b",
   "metadata": {},
   "outputs": [],
   "source": [
    "Q:2 Which type of Programming does Python support?\n",
    "Ans: Python is an interpreted programming language, which supports object-oriented, structured, and functional programming."
   ]
  },
  {
   "cell_type": "code",
   "execution_count": null,
   "id": "6b582f5a-0319-4366-a629-b6a49d9b2853",
   "metadata": {},
   "outputs": [],
   "source": [
    "Q:3 Is Python case sensitive when dealing with identifier?\n",
    "Ans: Case sensitive is always significant while dealing with identifiers in python"
   ]
  },
  {
   "cell_type": "code",
   "execution_count": null,
   "id": "a2fe0cea-7300-4acf-9953-9baac01a93ee",
   "metadata": {},
   "outputs": [],
   "source": [
    "Q:4 Wha is the correct extension of the Python file?\n",
    "Ans:  ‘.py’ is the correct extension of the Python file."
   ]
  },
  {
   "cell_type": "code",
   "execution_count": null,
   "id": "0cdbba59-a544-42c6-92ab-23ff30b33882",
   "metadata": {},
   "outputs": [],
   "source": [
    "Q:5 Is Python code compiled or interpreted?\n",
    "Ans:Many languages have been implemented using both compilers and interpreters, including C, Pascal, and Python."
   ]
  },
  {
   "cell_type": "code",
   "execution_count": null,
   "id": "05c280fe-41ac-4e46-b096-5fcced2b9e56",
   "metadata": {},
   "outputs": [],
   "source": [
    "Q:6 Name a few blocks of code used to define in Python langauge?\n",
    "Ans:A Python program is constructed from code blocks. A block is a piece of Python program text that is executed as a unit.\n",
    "    The following are blocks: a module, a function body, and a class definition."
   ]
  },
  {
   "cell_type": "code",
   "execution_count": null,
   "id": "e26efd0a-511e-4f46-a944-c746c2b4afe4",
   "metadata": {},
   "outputs": [],
   "source": [
    "Q:7 State a Character used to give single-line comments in Python?\n",
    "Ans: We can use the '#' character to write the comment in python."
   ]
  },
  {
   "cell_type": "code",
   "execution_count": null,
   "id": "911059eb-22db-46df-a081-62a3ec38bc56",
   "metadata": {},
   "outputs": [],
   "source": [
    "Q:8 Mention fuctions which can help us to find the verion of python that we are currently working on?\n",
    "Ans: The function sys.version can help us to find the version of python that we are currently working on."
   ]
  },
  {
   "cell_type": "code",
   "execution_count": null,
   "id": "c3d1501e-2832-4457-9d31-f96fccc48c37",
   "metadata": {},
   "outputs": [],
   "source": [
    "Q:9 Python supports the creation of anonymous functions at runtime,using a construct called-----?\n",
    "Ans: Python supports the creation of anonymous functions at runtime,using a construct called Lambda."
   ]
  },
  {
   "cell_type": "code",
   "execution_count": null,
   "id": "52c35080-bab5-45fa-98ff-18eedbce1486",
   "metadata": {},
   "outputs": [],
   "source": [
    "Q:10 What does pip stand for python?\n",
    "Ans: pip is a package manager for python. Which is also called Preferred Installer Program."
   ]
  },
  {
   "cell_type": "code",
   "execution_count": null,
   "id": "4392e5dc-9505-4307-87ba-8df88745d20f",
   "metadata": {},
   "outputs": [],
   "source": [
    "Q:11 Mention a few built-in functions in python?\n",
    "Ans: 1.print() function\n",
    "     2.type() function\n",
    "     3.input() function etc"
   ]
  },
  {
   "cell_type": "code",
   "execution_count": null,
   "id": "ae293acc-308f-4d2c-8292-7c6ddc5431b0",
   "metadata": {},
   "outputs": [],
   "source": [
    "Q:12 What is the maximum possible length of an identifier in Python?\n",
    "Ans: An identifier can have a maximum length of 79 characters in Python."
   ]
  },
  {
   "cell_type": "code",
   "execution_count": null,
   "id": "a065f2fe-1ecb-4b35-9d56-3020276bff86",
   "metadata": {},
   "outputs": [],
   "source": [
    "Q:13 What are the benefits of using Python?\n",
    "Ans: 1.Python For Multi-purpose Usage(Web app development,Web app development,Data science)\n",
    "     2.Python Is Used Across Various Forms of Programming(cross-platform shell scripting,Artificial Intelligence)\n",
    "     3.Python Preferred by Large Companies(Netflix,Google,Pixar,Spotify)"
   ]
  },
  {
   "cell_type": "code",
   "execution_count": null,
   "id": "5cae7a4f-3713-46bc-a1d5-e515357dddd1",
   "metadata": {},
   "outputs": [],
   "source": [
    "Q:14 How is memory managed in Python?\n",
    "Ans: According to the Python memory management documentation, Python has a private heap that stores our program’s objects and data structures. Python memory manager takes care of the bulk of the memory management work and allows us to concentrate on our code.\n",
    "     There are two types of memory allocation in Python, static and dynamic."
   ]
  },
  {
   "cell_type": "code",
   "execution_count": null,
   "id": "6dbbdac2-38a2-44a6-a451-8ca4b0ebe086",
   "metadata": {},
   "outputs": [],
   "source": [
    "Q:15 How to install Python on Windows and set path variables?\n",
    "Ans: Install python from this link https://www.python.org/downloads/\n",
    "     After this, install it on your PC. Look for the location where PYTHON has been installed on your PC using tge following command on your command prompt: cmd python.\n",
    "     Then go to advanced system settings and add new variable and name it as PYTHON_NAME and paste the copied path.\n",
    "     Then look for the path variable, select it's value and select edit\n",
    "     Add a semicolon towards the end of the value if it's not present and then type %PYTHON_HOME%"
   ]
  },
  {
   "cell_type": "code",
   "execution_count": null,
   "id": "7852d724-4158-4904-a966-8fb7faf93c7f",
   "metadata": {},
   "outputs": [],
   "source": [
    "Q:16 Is identation required in python?\n",
    "Ans: Indentation is a very important concept of Python because without proper indenting the Python code,\n",
    "     you will end up seeing IndentationError and the code will not get compiled."
   ]
  }
 ],
 "metadata": {
  "kernelspec": {
   "display_name": "Python 3 (ipykernel)",
   "language": "python",
   "name": "python3"
  },
  "language_info": {
   "codemirror_mode": {
    "name": "ipython",
    "version": 3
   },
   "file_extension": ".py",
   "mimetype": "text/x-python",
   "name": "python",
   "nbconvert_exporter": "python",
   "pygments_lexer": "ipython3",
   "version": "3.10.8"
  }
 },
 "nbformat": 4,
 "nbformat_minor": 5
}
